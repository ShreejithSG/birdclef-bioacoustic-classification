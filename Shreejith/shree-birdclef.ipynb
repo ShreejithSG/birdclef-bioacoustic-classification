{
 "cells": [
  {
   "cell_type": "code",
   "execution_count": 50,
   "metadata": {
    "execution": {
     "iopub.execute_input": "2025-04-21T04:56:25.767829Z",
     "iopub.status.busy": "2025-04-21T04:56:25.767511Z",
     "iopub.status.idle": "2025-04-21T04:56:25.772827Z",
     "shell.execute_reply": "2025-04-21T04:56:25.771832Z",
     "shell.execute_reply.started": "2025-04-21T04:56:25.767809Z"
    },
    "trusted": true
   },
   "outputs": [],
   "source": [
    "import librosa\n",
    "import numpy as np\n",
    "import pandas as pd\n",
    "from pathlib import Path\n",
    "import matplotlib.pyplot as plt\n",
    "import json"
   ]
  },
  {
   "cell_type": "markdown",
   "metadata": {},
   "source": [
    "## PreProcessing\n",
    "\n",
    "Converting audio files to frequency-binning features and saving them."
   ]
  },
  {
   "cell_type": "code",
   "execution_count": 51,
   "metadata": {
    "execution": {
     "iopub.execute_input": "2025-04-21T04:56:25.774909Z",
     "iopub.status.busy": "2025-04-21T04:56:25.774589Z",
     "iopub.status.idle": "2025-04-21T04:57:04.928754Z",
     "shell.execute_reply": "2025-04-21T04:57:04.927265Z",
     "shell.execute_reply.started": "2025-04-21T04:56:25.774887Z"
    },
    "trusted": true
   },
   "outputs": [
    {
     "name": "stdout",
     "output_type": "stream",
     "text": [
      "Saved 500 samples.\n"
     ]
    }
   ],
   "source": [
    "# Paths\n",
    "DATA_ROOT = Path(\"/kaggle/input/birdclef-2025\")\n",
    "AUDIO_ROOT = DATA_ROOT / \"train_audio\"\n",
    "\n",
    "# Spectrogram binning params\n",
    "SAMPLE_RATE = 32000\n",
    "N_FFT = 1024\n",
    "HOP_LENGTH = 512\n",
    "MAX_FREQ = 16000\n",
    "BIN_SIZE = 5\n",
    "NUM_BINS = MAX_FREQ // BIN_SIZE\n",
    "\n",
    "def audio_to_binary_vector(path):\n",
    "    y, sr = librosa.load(path, sr=SAMPLE_RATE)\n",
    "    S = np.abs(librosa.stft(y, n_fft=N_FFT, hop_length=HOP_LENGTH))\n",
    "    freqs = librosa.fft_frequencies(sr=sr, n_fft=N_FFT)\n",
    "\n",
    "    idx = freqs <= MAX_FREQ\n",
    "    S = S[idx, :]\n",
    "    freqs = freqs[idx]\n",
    "\n",
    "    energy = S.max(axis=1)\n",
    "    threshold = np.percentile(energy, 85)\n",
    "\n",
    "    binary_vec = np.zeros(NUM_BINS, dtype=int)\n",
    "    for i, f in enumerate(freqs):\n",
    "        bin_idx = int(f // BIN_SIZE)\n",
    "        if energy[i] > threshold:\n",
    "            binary_vec[bin_idx] = 1\n",
    "    return binary_vec\n",
    "\n",
    "# Top species from species_stats earlier\n",
    "top_species = [\"grekis\", \"compau\", \"trokin\", \"roahaw\", \"banana\", \"whtdov\", \"socfly1\", \"yeofly1\", \"bobfly1\", \"wbwwre1\"]\n",
    "\n",
    "output = []\n",
    "\n",
    "for sp in top_species:\n",
    "    folder = AUDIO_ROOT / sp\n",
    "    files = sorted(folder.glob(\"*.ogg\"))[:50]\n",
    "\n",
    "    for f in files:\n",
    "        try:\n",
    "            vec = audio_to_binary_vector(f)\n",
    "            output.append({\n",
    "                \"species\": sp,\n",
    "                \"filename\": f.name,\n",
    "                \"vector\": vec.tolist()\n",
    "            })\n",
    "        except Exception as e:\n",
    "            print(f\"{f.name} — {e}\")\n",
    "\n",
    "# Save to file\n",
    "df = pd.DataFrame(output)\n",
    "df.to_json(\"/kaggle/working/bird_vectors_top10.json\", orient=\"records\", lines=True)\n",
    "print(\"Saved\", len(df), \"samples.\")\n"
   ]
  }
 ],
 "metadata": {
  "kaggle": {
   "accelerator": "none",
   "dataSources": [
    {
     "databundleVersionId": 11361821,
     "sourceId": 91844,
     "sourceType": "competition"
    }
   ],
   "dockerImageVersionId": 31012,
   "isGpuEnabled": false,
   "isInternetEnabled": false,
   "language": "python",
   "sourceType": "notebook"
  },
  "kernelspec": {
   "display_name": "Python 3",
   "language": "python",
   "name": "python3"
  },
  "language_info": {
   "codemirror_mode": {
    "name": "ipython",
    "version": 3
   },
   "file_extension": ".py",
   "mimetype": "text/x-python",
   "name": "python",
   "nbconvert_exporter": "python",
   "pygments_lexer": "ipython3",
   "version": "3.11.11"
  }
 },
 "nbformat": 4,
 "nbformat_minor": 4
}
