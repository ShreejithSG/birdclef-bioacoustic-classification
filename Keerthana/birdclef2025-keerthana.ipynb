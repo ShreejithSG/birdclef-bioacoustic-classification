{
 "cells": [
  {
   "cell_type": "code",
   "execution_count": 2,
   "metadata": {
    "execution": {
     "iopub.execute_input": "2025-04-21T05:06:59.818114Z",
     "iopub.status.busy": "2025-04-21T05:06:59.817459Z",
     "iopub.status.idle": "2025-04-21T05:07:03.842151Z",
     "shell.execute_reply": "2025-04-21T05:07:03.841553Z",
     "shell.execute_reply.started": "2025-04-21T05:06:59.818088Z"
    },
    "trusted": true
   },
   "outputs": [],
   "source": [
    "import os\n",
    "import numpy as np\n",
    "import pandas as pd\n",
    "import librosa\n",
    "import torch\n",
    "import torch.nn as nn\n",
    "from torch.utils.data import Dataset, DataLoader\n",
    "from sklearn.model_selection import train_test_split\n",
    "import warnings\n",
    "warnings.filterwarnings(\"ignore\")\n"
   ]
  },
  {
   "cell_type": "markdown",
   "metadata": {},
   "source": [
    "## Dataset Downloading & Precprocessing"
   ]
  },
  {
   "cell_type": "code",
   "execution_count": 7,
   "metadata": {
    "execution": {
     "iopub.execute_input": "2025-04-21T05:07:26.913173Z",
     "iopub.status.busy": "2025-04-21T05:07:26.912865Z",
     "iopub.status.idle": "2025-04-21T05:07:27.206705Z",
     "shell.execute_reply": "2025-04-21T05:07:27.206078Z",
     "shell.execute_reply.started": "2025-04-21T05:07:26.913149Z"
    },
    "trusted": true
   },
   "outputs": [],
   "source": [
    "import kagglehub"
   ]
  },
  {
   "cell_type": "code",
   "execution_count": 8,
   "metadata": {
    "execution": {
     "iopub.execute_input": "2025-04-21T05:07:28.592992Z",
     "iopub.status.busy": "2025-04-21T05:07:28.592699Z",
     "iopub.status.idle": "2025-04-21T05:07:29.292656Z",
     "shell.execute_reply": "2025-04-21T05:07:29.291893Z",
     "shell.execute_reply.started": "2025-04-21T05:07:28.592968Z"
    },
    "trusted": true
   },
   "outputs": [],
   "source": [
    "birdclef_2025_path = kagglehub.competition_download('birdclef-2025')"
   ]
  },
  {
   "cell_type": "code",
   "execution_count": 9,
   "metadata": {
    "execution": {
     "iopub.execute_input": "2025-04-21T05:07:30.386108Z",
     "iopub.status.busy": "2025-04-21T05:07:30.385367Z",
     "iopub.status.idle": "2025-04-21T05:07:31.237032Z",
     "shell.execute_reply": "2025-04-21T05:07:31.236275Z",
     "shell.execute_reply.started": "2025-04-21T05:07:30.386072Z"
    },
    "trusted": true
   },
   "outputs": [],
   "source": [
    "import os\n",
    "import numpy as np\n",
    "import pandas as pd\n",
    "import torch\n",
    "import torch.nn as nn\n",
    "from torch.utils.data import Dataset, DataLoader\n",
    "from sklearn.model_selection import train_test_split\n",
    "import librosa\n",
    "\n",
    "# Base path from kagglehub\n",
    "birdclef_2025_path = kagglehub.competition_download('birdclef-2025')\n",
    "audio_dir = os.path.join(birdclef_2025_path, \"train_audio\")\n",
    "csv_path = os.path.join(birdclef_2025_path, \"train.csv\")\n",
    "\n",
    "# Constants\n",
    "SAMPLE_RATE = 32000\n",
    "DURATION = 5\n",
    "N_MELS = 128\n",
    "FREQ_MAX = 16000\n",
    "AUDIO_LEN = SAMPLE_RATE * DURATION\n",
    "DEVICE = torch.device(\"cuda\" if torch.cuda.is_available() else \"cpu\")\n"
   ]
  },
  {
   "cell_type": "markdown",
   "metadata": {},
   "source": [
    "### Convert Audio to Log-Mel Spectrogram\n",
    "\n",
    "This function takes an audio file path and returns its log-mel spectrogram representation:\n",
    "\n",
    "- Loads the audio at 32kHz sampling rate\n",
    "- Pads or trims to 5 seconds (exact length)\n",
    "- Computes the mel spectrogram with `n_mels` bands (default 128)\n",
    "- Converts it to log scale (decibels) using `librosa.power_to_db`\n",
    "- Returns a `(n_mels, time)` shaped matrix used as CNN input"
   ]
  },
  {
   "cell_type": "code",
   "execution_count": 10,
   "metadata": {
    "execution": {
     "iopub.execute_input": "2025-04-21T05:07:33.854254Z",
     "iopub.status.busy": "2025-04-21T05:07:33.853494Z",
     "iopub.status.idle": "2025-04-21T05:07:33.858920Z",
     "shell.execute_reply": "2025-04-21T05:07:33.858062Z",
     "shell.execute_reply.started": "2025-04-21T05:07:33.854226Z"
    },
    "trusted": true
   },
   "outputs": [],
   "source": [
    "def load_log_mel(filepath):\n",
    "    y, sr = librosa.load(filepath, sr=SAMPLE_RATE)\n",
    "    if len(y) < AUDIO_LEN:\n",
    "        y = np.pad(y, (0, AUDIO_LEN - len(y)))\n",
    "    else:\n",
    "        y = y[:AUDIO_LEN]\n",
    "    \n",
    "    mel = librosa.feature.melspectrogram(\n",
    "        y=y, sr=sr, n_mels=N_MELS, fmax=FREQ_MAX\n",
    "    )\n",
    "    log_mel = librosa.power_to_db(mel, ref=np.max)\n",
    "    return log_mel\n"
   ]
  },
  {
   "cell_type": "markdown",
   "metadata": {},
   "source": [
    "### Data Loading\n",
    "Loaded training audio files from `train_audio/` and metadata from `train.csv`. Only high-quality clips were used (rating ≥ 4).\n",
    "\n",
    "---"
   ]
  },
  {
   "cell_type": "code",
   "execution_count": 11,
   "metadata": {
    "execution": {
     "iopub.execute_input": "2025-04-21T05:07:36.025356Z",
     "iopub.status.busy": "2025-04-21T05:07:36.025076Z",
     "iopub.status.idle": "2025-04-21T05:07:36.030008Z",
     "shell.execute_reply": "2025-04-21T05:07:36.029150Z",
     "shell.execute_reply.started": "2025-04-21T05:07:36.025334Z"
    },
    "trusted": true
   },
   "outputs": [],
   "source": [
    "class BirdLogMelDataset(Dataset):\n",
    "    def __init__(self, filepaths, labels):\n",
    "        self.filepaths = filepaths\n",
    "        self.labels = labels\n",
    "\n",
    "    def __len__(self):\n",
    "        return len(self.filepaths)\n",
    "\n",
    "    def __getitem__(self, idx):\n",
    "        log_mel = load_log_mel(self.filepaths[idx])\n",
    "        log_mel = np.expand_dims(log_mel, axis=0)  # (1, 128, time)\n",
    "        return torch.tensor(log_mel, dtype=torch.float32), torch.tensor(self.labels[idx], dtype=torch.float32)\n"
   ]
  }
 ],
 "metadata": {
  "kaggle": {
   "accelerator": "gpu",
   "dataSources": [
    {
     "databundleVersionId": 11361821,
     "sourceId": 91844,
     "sourceType": "competition"
    }
   ],
   "dockerImageVersionId": 31011,
   "isGpuEnabled": true,
   "isInternetEnabled": false,
   "language": "python",
   "sourceType": "notebook"
  },
  "kernelspec": {
   "display_name": "Python 3",
   "language": "python",
   "name": "python3"
  },
  "language_info": {
   "codemirror_mode": {
    "name": "ipython",
    "version": 3
   },
   "file_extension": ".py",
   "mimetype": "text/x-python",
   "name": "python",
   "nbconvert_exporter": "python",
   "pygments_lexer": "ipython3",
   "version": "3.11.11"
  }
 },
 "nbformat": 4,
 "nbformat_minor": 4
}
