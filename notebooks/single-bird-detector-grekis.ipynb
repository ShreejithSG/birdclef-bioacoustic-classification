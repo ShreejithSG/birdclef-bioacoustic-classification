{
 "cells": [
  {
   "cell_type": "code",
   "execution_count": 1,
   "metadata": {
    "_cell_guid": "b1076dfc-b9ad-4769-8c92-a6c4dae69d19",
    "_uuid": "8f2839f25d086af736a60e9eeb907d3b93b6e0e5",
    "execution": {
     "iopub.execute_input": "2025-06-14T00:46:08.839665Z",
     "iopub.status.busy": "2025-06-14T00:46:08.839477Z",
     "iopub.status.idle": "2025-06-14T00:46:10.985761Z",
     "shell.execute_reply": "2025-06-14T00:46:10.985031Z",
     "shell.execute_reply.started": "2025-06-14T00:46:08.839643Z"
    },
    "trusted": true
   },
   "outputs": [
    {
     "name": "stdout",
     "output_type": "stream",
     "text": [
      "primary_label\n",
      "grekis     990\n",
      "compau     808\n",
      "trokin     787\n",
      "roahaw     709\n",
      "banana     610\n",
      "whtdov     572\n",
      "socfly1    543\n",
      "yeofly1    525\n",
      "bobfly1    514\n",
      "wbwwre1    499\n",
      "soulap1    487\n",
      "sobtyr1    478\n",
      "trsowl     470\n",
      "laufal1    467\n",
      "strcuc1    431\n",
      "bbwduc     424\n",
      "saffin     419\n",
      "amekes     409\n",
      "tropar     397\n",
      "compot1    383\n",
      "Name: count, dtype: int64\n"
     ]
    }
   ],
   "source": [
    "import pandas as pd\n",
    "\n",
    "df = pd.read_csv(\"/kaggle/input/birdclef-2025/train.csv\")\n",
    "freq_table = df[\"primary_label\"].value_counts()\n",
    "print(freq_table.head(20)) \n"
   ]
  },
  {
   "cell_type": "code",
   "execution_count": 2,
   "metadata": {
    "execution": {
     "iopub.execute_input": "2025-06-14T00:46:10.987672Z",
     "iopub.status.busy": "2025-06-14T00:46:10.987438Z",
     "iopub.status.idle": "2025-06-14T00:46:12.212107Z",
     "shell.execute_reply": "2025-06-14T00:46:12.211198Z",
     "shell.execute_reply.started": "2025-06-14T00:46:10.987649Z"
    },
    "trusted": true
   },
   "outputs": [
    {
     "data": {
      "text/html": [
       "<div>\n",
       "<style scoped>\n",
       "    .dataframe tbody tr th:only-of-type {\n",
       "        vertical-align: middle;\n",
       "    }\n",
       "\n",
       "    .dataframe tbody tr th {\n",
       "        vertical-align: top;\n",
       "    }\n",
       "\n",
       "    .dataframe thead th {\n",
       "        text-align: right;\n",
       "    }\n",
       "</style>\n",
       "<table border=\"1\" class=\"dataframe\">\n",
       "  <thead>\n",
       "    <tr style=\"text-align: right;\">\n",
       "      <th></th>\n",
       "      <th>primary_label</th>\n",
       "      <th>filename</th>\n",
       "      <th>label</th>\n",
       "    </tr>\n",
       "  </thead>\n",
       "  <tbody>\n",
       "    <tr>\n",
       "      <th>2481</th>\n",
       "      <td>compau</td>\n",
       "      <td>compau/XC811731.ogg</td>\n",
       "      <td>0</td>\n",
       "    </tr>\n",
       "    <tr>\n",
       "      <th>4700</th>\n",
       "      <td>trokin</td>\n",
       "      <td>trokin/iNat1287626.ogg</td>\n",
       "      <td>0</td>\n",
       "    </tr>\n",
       "    <tr>\n",
       "      <th>1504</th>\n",
       "      <td>banana</td>\n",
       "      <td>banana/iNat33120.ogg</td>\n",
       "      <td>0</td>\n",
       "    </tr>\n",
       "    <tr>\n",
       "      <th>2476</th>\n",
       "      <td>compau</td>\n",
       "      <td>compau/XC799779.ogg</td>\n",
       "      <td>0</td>\n",
       "    </tr>\n",
       "    <tr>\n",
       "      <th>2627</th>\n",
       "      <td>compau</td>\n",
       "      <td>compau/iNat185443.ogg</td>\n",
       "      <td>0</td>\n",
       "    </tr>\n",
       "  </tbody>\n",
       "</table>\n",
       "</div>"
      ],
      "text/plain": [
       "     primary_label                filename  label\n",
       "2481        compau     compau/XC811731.ogg      0\n",
       "4700        trokin  trokin/iNat1287626.ogg      0\n",
       "1504        banana    banana/iNat33120.ogg      0\n",
       "2476        compau     compau/XC799779.ogg      0\n",
       "2627        compau   compau/iNat185443.ogg      0"
      ]
     },
     "execution_count": 2,
     "metadata": {},
     "output_type": "execute_result"
    }
   ],
   "source": [
    "top10 = ['grekis', 'compau', 'trokin', 'roahaw', 'banana', 'whtdov', 'socfly1', 'yeofly1', 'bobfly1', 'wbwwre1']\n",
    "\n",
    "# Positive = grekis\n",
    "pos_df = df[df['primary_label'] == 'grekis'].copy()\n",
    "pos_df['label'] = 1\n",
    "\n",
    "# Negative = rest of top 10 (excluding grekis)\n",
    "neg_df = df[df['primary_label'].isin(top10) & (df['primary_label'] != 'grekis')].copy()\n",
    "neg_df['label'] = 0\n",
    "\n",
    "from sklearn.utils import resample\n",
    "\n",
    "# Downsample negatives to match positives\n",
    "neg_df_balanced = resample(neg_df, \n",
    "                           replace=False, \n",
    "                           n_samples=len(pos_df), \n",
    "                           random_state=42)\n",
    "\n",
    "combined_df = pd.concat([pos_df, neg_df_balanced]).sample(frac=1, random_state=42)\n",
    "\n",
    "# Combine\n",
    "combined_df = pd.concat([pos_df, neg_df], ignore_index=True).sample(frac=1, random_state=42)\n",
    "\n",
    "# Preview\n",
    "combined_df[['primary_label', 'filename', 'label']].head()"
   ]
  },
  {
   "cell_type": "code",
   "execution_count": 3,
   "metadata": {
    "execution": {
     "iopub.execute_input": "2025-06-14T00:46:12.213263Z",
     "iopub.status.busy": "2025-06-14T00:46:12.212927Z",
     "iopub.status.idle": "2025-06-14T00:46:12.240450Z",
     "shell.execute_reply": "2025-06-14T00:46:12.239774Z",
     "shell.execute_reply.started": "2025-06-14T00:46:12.213245Z"
    },
    "trusted": true
   },
   "outputs": [
    {
     "data": {
      "text/html": [
       "<div>\n",
       "<style scoped>\n",
       "    .dataframe tbody tr th:only-of-type {\n",
       "        vertical-align: middle;\n",
       "    }\n",
       "\n",
       "    .dataframe tbody tr th {\n",
       "        vertical-align: top;\n",
       "    }\n",
       "\n",
       "    .dataframe thead th {\n",
       "        text-align: right;\n",
       "    }\n",
       "</style>\n",
       "<table border=\"1\" class=\"dataframe\">\n",
       "  <thead>\n",
       "    <tr style=\"text-align: right;\">\n",
       "      <th></th>\n",
       "      <th>primary_label</th>\n",
       "      <th>secondary_labels</th>\n",
       "      <th>type</th>\n",
       "      <th>filename</th>\n",
       "      <th>collection</th>\n",
       "      <th>rating</th>\n",
       "      <th>url</th>\n",
       "      <th>latitude</th>\n",
       "      <th>longitude</th>\n",
       "      <th>scientific_name</th>\n",
       "      <th>common_name</th>\n",
       "      <th>author</th>\n",
       "      <th>license</th>\n",
       "      <th>label</th>\n",
       "    </tr>\n",
       "  </thead>\n",
       "  <tbody>\n",
       "    <tr>\n",
       "      <th>1884</th>\n",
       "      <td>banana</td>\n",
       "      <td>['']</td>\n",
       "      <td>['song']</td>\n",
       "      <td>banana/XC338406.ogg</td>\n",
       "      <td>XC</td>\n",
       "      <td>4.0</td>\n",
       "      <td>https://xeno-canto.org/338406</td>\n",
       "      <td>9.8320</td>\n",
       "      <td>-83.5639</td>\n",
       "      <td>Coereba flaveola</td>\n",
       "      <td>Bananaquit</td>\n",
       "      <td>Mary Beth Stowe</td>\n",
       "      <td>cc-by-nc-sa 4.0</td>\n",
       "      <td>0</td>\n",
       "    </tr>\n",
       "    <tr>\n",
       "      <th>10468</th>\n",
       "      <td>grekis</td>\n",
       "      <td>['']</td>\n",
       "      <td>['song']</td>\n",
       "      <td>grekis/XC194634.ogg</td>\n",
       "      <td>XC</td>\n",
       "      <td>3.0</td>\n",
       "      <td>https://xeno-canto.org/194634</td>\n",
       "      <td>-34.7966</td>\n",
       "      <td>-58.2760</td>\n",
       "      <td>Pitangus sulphuratus</td>\n",
       "      <td>Great Kiskadee</td>\n",
       "      <td>Diego Caiafa</td>\n",
       "      <td>cc-by-nc-sa 4.0</td>\n",
       "      <td>1</td>\n",
       "    </tr>\n",
       "    <tr>\n",
       "      <th>10763</th>\n",
       "      <td>grekis</td>\n",
       "      <td>['']</td>\n",
       "      <td>['song']</td>\n",
       "      <td>grekis/XC625529.ogg</td>\n",
       "      <td>XC</td>\n",
       "      <td>5.0</td>\n",
       "      <td>https://xeno-canto.org/625529</td>\n",
       "      <td>1.4898</td>\n",
       "      <td>-75.6801</td>\n",
       "      <td>Pitangus sulphuratus</td>\n",
       "      <td>Great Kiskadee</td>\n",
       "      <td>Mauricio Cuellar Ramirez (@Birding.travel)</td>\n",
       "      <td>cc-by-nc-sa 4.0</td>\n",
       "      <td>1</td>\n",
       "    </tr>\n",
       "    <tr>\n",
       "      <th>5002</th>\n",
       "      <td>bobfly1</td>\n",
       "      <td>['']</td>\n",
       "      <td>['']</td>\n",
       "      <td>bobfly1/iNat354136.ogg</td>\n",
       "      <td>iNat</td>\n",
       "      <td>0.0</td>\n",
       "      <td>https://static.inaturalist.org/sounds/354136.wav</td>\n",
       "      <td>-0.5244</td>\n",
       "      <td>-76.3949</td>\n",
       "      <td>Megarynchus pitangua</td>\n",
       "      <td>Boat-billed Flycatcher</td>\n",
       "      <td>Unknown</td>\n",
       "      <td>cc-by-nc 4.0</td>\n",
       "      <td>0</td>\n",
       "    </tr>\n",
       "    <tr>\n",
       "      <th>8085</th>\n",
       "      <td>compau</td>\n",
       "      <td>['']</td>\n",
       "      <td>['']</td>\n",
       "      <td>compau/iNat890206.ogg</td>\n",
       "      <td>iNat</td>\n",
       "      <td>0.0</td>\n",
       "      <td>https://static.inaturalist.org/sounds/890206.m4a</td>\n",
       "      <td>25.6907</td>\n",
       "      <td>-100.2191</td>\n",
       "      <td>Nyctidromus albicollis</td>\n",
       "      <td>Common Pauraque</td>\n",
       "      <td>David Hurtado</td>\n",
       "      <td>cc-0 4.0</td>\n",
       "      <td>0</td>\n",
       "    </tr>\n",
       "    <tr>\n",
       "      <th>...</th>\n",
       "      <td>...</td>\n",
       "      <td>...</td>\n",
       "      <td>...</td>\n",
       "      <td>...</td>\n",
       "      <td>...</td>\n",
       "      <td>...</td>\n",
       "      <td>...</td>\n",
       "      <td>...</td>\n",
       "      <td>...</td>\n",
       "      <td>...</td>\n",
       "      <td>...</td>\n",
       "      <td>...</td>\n",
       "      <td>...</td>\n",
       "      <td>...</td>\n",
       "    </tr>\n",
       "    <tr>\n",
       "      <th>25617</th>\n",
       "      <td>whtdov</td>\n",
       "      <td>['']</td>\n",
       "      <td>['aberrant', 'song']</td>\n",
       "      <td>whtdov/XC661045.ogg</td>\n",
       "      <td>XC</td>\n",
       "      <td>3.0</td>\n",
       "      <td>https://xeno-canto.org/661045</td>\n",
       "      <td>11.4947</td>\n",
       "      <td>-69.5128</td>\n",
       "      <td>Leptotila verreauxi</td>\n",
       "      <td>White-tipped Dove</td>\n",
       "      <td>Francisco contreras</td>\n",
       "      <td>cc-by-nc-sa 4.0</td>\n",
       "      <td>0</td>\n",
       "    </tr>\n",
       "    <tr>\n",
       "      <th>27715</th>\n",
       "      <td>yeofly1</td>\n",
       "      <td>['']</td>\n",
       "      <td>['song']</td>\n",
       "      <td>yeofly1/XC283318.ogg</td>\n",
       "      <td>XC</td>\n",
       "      <td>5.0</td>\n",
       "      <td>https://xeno-canto.org/283318</td>\n",
       "      <td>-14.3834</td>\n",
       "      <td>-40.1001</td>\n",
       "      <td>Tolmomyias sulphurescens</td>\n",
       "      <td>Yellow-olive Flycatcher</td>\n",
       "      <td>Jeremy Minns</td>\n",
       "      <td>cc-by-nc-sa 4.0</td>\n",
       "      <td>0</td>\n",
       "    </tr>\n",
       "    <tr>\n",
       "      <th>11272</th>\n",
       "      <td>grekis</td>\n",
       "      <td>['']</td>\n",
       "      <td>['']</td>\n",
       "      <td>grekis/iNat675556.ogg</td>\n",
       "      <td>iNat</td>\n",
       "      <td>0.0</td>\n",
       "      <td>https://static.inaturalist.org/sounds/675556.m4a</td>\n",
       "      <td>6.2406</td>\n",
       "      <td>-75.5021</td>\n",
       "      <td>Pitangus sulphuratus</td>\n",
       "      <td>Great Kiskadee</td>\n",
       "      <td>Unknown</td>\n",
       "      <td>cc-by-nc 4.0</td>\n",
       "      <td>1</td>\n",
       "    </tr>\n",
       "    <tr>\n",
       "      <th>24831</th>\n",
       "      <td>wbwwre1</td>\n",
       "      <td>['']</td>\n",
       "      <td>['']</td>\n",
       "      <td>wbwwre1/iNat744975.ogg</td>\n",
       "      <td>iNat</td>\n",
       "      <td>0.0</td>\n",
       "      <td>https://static.inaturalist.org/sounds/744975.wav</td>\n",
       "      <td>21.3965</td>\n",
       "      <td>-98.9957</td>\n",
       "      <td>Henicorhina leucosticta</td>\n",
       "      <td>White-breasted Wood-Wren</td>\n",
       "      <td>Salvador Cabrera</td>\n",
       "      <td>cc-by-nc 4.0</td>\n",
       "      <td>0</td>\n",
       "    </tr>\n",
       "    <tr>\n",
       "      <th>2311</th>\n",
       "      <td>banana</td>\n",
       "      <td>['']</td>\n",
       "      <td>['']</td>\n",
       "      <td>banana/iNat770503.ogg</td>\n",
       "      <td>iNat</td>\n",
       "      <td>0.0</td>\n",
       "      <td>https://static.inaturalist.org/sounds/770503.wav</td>\n",
       "      <td>-25.6256</td>\n",
       "      <td>-54.5479</td>\n",
       "      <td>Coereba flaveola</td>\n",
       "      <td>Bananaquit</td>\n",
       "      <td>Sebastián</td>\n",
       "      <td>cc-by-nc 4.0</td>\n",
       "      <td>0</td>\n",
       "    </tr>\n",
       "  </tbody>\n",
       "</table>\n",
       "<p>1980 rows × 14 columns</p>\n",
       "</div>"
      ],
      "text/plain": [
       "      primary_label secondary_labels                  type  \\\n",
       "1884         banana             ['']              ['song']   \n",
       "10468        grekis             ['']              ['song']   \n",
       "10763        grekis             ['']              ['song']   \n",
       "5002        bobfly1             ['']                  ['']   \n",
       "8085         compau             ['']                  ['']   \n",
       "...             ...              ...                   ...   \n",
       "25617        whtdov             ['']  ['aberrant', 'song']   \n",
       "27715       yeofly1             ['']              ['song']   \n",
       "11272        grekis             ['']                  ['']   \n",
       "24831       wbwwre1             ['']                  ['']   \n",
       "2311         banana             ['']                  ['']   \n",
       "\n",
       "                     filename collection  rating  \\\n",
       "1884      banana/XC338406.ogg         XC     4.0   \n",
       "10468     grekis/XC194634.ogg         XC     3.0   \n",
       "10763     grekis/XC625529.ogg         XC     5.0   \n",
       "5002   bobfly1/iNat354136.ogg       iNat     0.0   \n",
       "8085    compau/iNat890206.ogg       iNat     0.0   \n",
       "...                       ...        ...     ...   \n",
       "25617     whtdov/XC661045.ogg         XC     3.0   \n",
       "27715    yeofly1/XC283318.ogg         XC     5.0   \n",
       "11272   grekis/iNat675556.ogg       iNat     0.0   \n",
       "24831  wbwwre1/iNat744975.ogg       iNat     0.0   \n",
       "2311    banana/iNat770503.ogg       iNat     0.0   \n",
       "\n",
       "                                                    url  latitude  longitude  \\\n",
       "1884                      https://xeno-canto.org/338406    9.8320   -83.5639   \n",
       "10468                     https://xeno-canto.org/194634  -34.7966   -58.2760   \n",
       "10763                     https://xeno-canto.org/625529    1.4898   -75.6801   \n",
       "5002   https://static.inaturalist.org/sounds/354136.wav   -0.5244   -76.3949   \n",
       "8085   https://static.inaturalist.org/sounds/890206.m4a   25.6907  -100.2191   \n",
       "...                                                 ...       ...        ...   \n",
       "25617                     https://xeno-canto.org/661045   11.4947   -69.5128   \n",
       "27715                     https://xeno-canto.org/283318  -14.3834   -40.1001   \n",
       "11272  https://static.inaturalist.org/sounds/675556.m4a    6.2406   -75.5021   \n",
       "24831  https://static.inaturalist.org/sounds/744975.wav   21.3965   -98.9957   \n",
       "2311   https://static.inaturalist.org/sounds/770503.wav  -25.6256   -54.5479   \n",
       "\n",
       "                scientific_name               common_name  \\\n",
       "1884           Coereba flaveola                Bananaquit   \n",
       "10468      Pitangus sulphuratus            Great Kiskadee   \n",
       "10763      Pitangus sulphuratus            Great Kiskadee   \n",
       "5002       Megarynchus pitangua    Boat-billed Flycatcher   \n",
       "8085     Nyctidromus albicollis           Common Pauraque   \n",
       "...                         ...                       ...   \n",
       "25617       Leptotila verreauxi         White-tipped Dove   \n",
       "27715  Tolmomyias sulphurescens   Yellow-olive Flycatcher   \n",
       "11272      Pitangus sulphuratus            Great Kiskadee   \n",
       "24831   Henicorhina leucosticta  White-breasted Wood-Wren   \n",
       "2311           Coereba flaveola                Bananaquit   \n",
       "\n",
       "                                           author          license  label  \n",
       "1884                              Mary Beth Stowe  cc-by-nc-sa 4.0      0  \n",
       "10468                                Diego Caiafa  cc-by-nc-sa 4.0      1  \n",
       "10763  Mauricio Cuellar Ramirez (@Birding.travel)  cc-by-nc-sa 4.0      1  \n",
       "5002                                      Unknown     cc-by-nc 4.0      0  \n",
       "8085                                David Hurtado         cc-0 4.0      0  \n",
       "...                                           ...              ...    ...  \n",
       "25617                         Francisco contreras  cc-by-nc-sa 4.0      0  \n",
       "27715                                Jeremy Minns  cc-by-nc-sa 4.0      0  \n",
       "11272                                     Unknown     cc-by-nc 4.0      1  \n",
       "24831                            Salvador Cabrera     cc-by-nc 4.0      0  \n",
       "2311                                    Sebastián     cc-by-nc 4.0      0  \n",
       "\n",
       "[1980 rows x 14 columns]"
      ]
     },
     "execution_count": 3,
     "metadata": {},
     "output_type": "execute_result"
    }
   ],
   "source": [
    "neg_df = df[df['primary_label'].isin(top10) & (df['primary_label'] != 'grekis')].copy()\n",
    "neg_df['label'] = 0\n",
    "\n",
    "from sklearn.utils import resample\n",
    "\n",
    "neg_df_balanced = resample(neg_df, \n",
    "                           replace=False, \n",
    "                           n_samples=len(pos_df), \n",
    "                           random_state=42)\n",
    "\n",
    "combined_df = pd.concat([pos_df, neg_df_balanced]).sample(frac=1, random_state=42)\n",
    "combined_df"
   ]
  },
  {
   "cell_type": "code",
   "execution_count": 4,
   "metadata": {
    "execution": {
     "iopub.execute_input": "2025-06-14T00:46:12.241320Z",
     "iopub.status.busy": "2025-06-14T00:46:12.241116Z",
     "iopub.status.idle": "2025-06-14T00:46:12.254764Z",
     "shell.execute_reply": "2025-06-14T00:46:12.253997Z",
     "shell.execute_reply.started": "2025-06-14T00:46:12.241300Z"
    },
    "jupyter": {
     "source_hidden": true
    },
    "trusted": true
   },
   "outputs": [],
   "source": [
    "import numpy as np\n",
    "import librosa\n",
    "\n",
    "def extract_binary_features(filepath, sr=32000, n_fft=1024, hop_length=512, percentile=85):\n",
    "    \"\"\"\n",
    "    Converts an audio file into a 3200-dim binary frequency-bin vector using adaptive thresholding.\n",
    "    \n",
    "    Args:\n",
    "        filepath (str): Full path to the audio file\n",
    "        sr (int): Sampling rate\n",
    "        n_fft (int): FFT window size\n",
    "        hop_length (int): Number of samples between frames\n",
    "        percentile (float): Percentile threshold for activity in a frequency bin (0–100)\n",
    "\n",
    "    Returns:\n",
    "        np.ndarray: Binary vector of shape (3200,)\n",
    "    \"\"\"\n",
    "    # Load audio\n",
    "    y, sr_actual = librosa.load(filepath, sr=sr)\n",
    "    \n",
    "    # Compute STFT (complex)\n",
    "    S = librosa.stft(y, n_fft=n_fft, hop_length=hop_length)\n",
    "    \n",
    "    # Power and convert to decibels\n",
    "    S_power = np.abs(S) ** 2\n",
    "    S_db = librosa.power_to_db(S_power, ref=np.max)\n",
    "\n",
    "    # Frequency values\n",
    "    freqs = librosa.fft_frequencies(sr=sr, n_fft=n_fft)\n",
    "\n",
    "    # Frequency binning: 0 to 16000 Hz, in 5 Hz intervals → 3200 bins\n",
    "    bin_edges = np.linspace(0, 16000, 3201)\n",
    "    binary_vector = np.zeros(3200, dtype=int)\n",
    "\n",
    "    # Compute threshold based on global energy distribution\n",
    "    energy_per_freq = S_db.max(axis=1)  # Max across time for each frequency\n",
    "    adaptive_threshold = np.percentile(energy_per_freq, percentile)\n",
    "\n",
    "    # Assign 1s where max energy in bin > threshold\n",
    "    for i in range(3200):\n",
    "        f_start = bin_edges[i]\n",
    "        f_end = bin_edges[i+1]\n",
    "        bin_mask = (freqs >= f_start) & (freqs < f_end)\n",
    "        \n",
    "        if np.any(bin_mask):\n",
    "            max_energy = np.max(energy_per_freq[bin_mask])\n",
    "            if max_energy > adaptive_threshold:\n",
    "                binary_vector[i] = 1\n",
    "\n",
    "    return binary_vector"
   ]
  },
  {
   "cell_type": "code",
   "execution_count": 5,
   "metadata": {
    "execution": {
     "iopub.execute_input": "2025-06-14T00:46:12.256077Z",
     "iopub.status.busy": "2025-06-14T00:46:12.255776Z",
     "iopub.status.idle": "2025-06-14T00:46:23.228312Z",
     "shell.execute_reply": "2025-06-14T00:46:23.227024Z",
     "shell.execute_reply.started": "2025-06-14T00:46:12.256052Z"
    },
    "trusted": true
   },
   "outputs": [
    {
     "name": "stdout",
     "output_type": "stream",
     "text": [
      "(3200,)\n",
      "77\n"
     ]
    }
   ],
   "source": [
    "path = \"/kaggle/input/birdclef-2025/train_audio/\" + combined_df.iloc[0][\"filename\"]\n",
    "vec = extract_binary_features(path)\n",
    "print(vec.shape) \n",
    "print(vec.sum()) "
   ]
  },
  {
   "cell_type": "markdown",
   "metadata": {},
   "source": [
    "# Updated Binary Vector by Chunking the Audio files and Aggregating them using Median"
   ]
  },
  {
   "cell_type": "code",
   "execution_count": 6,
   "metadata": {
    "execution": {
     "iopub.execute_input": "2025-06-14T00:46:23.229586Z",
     "iopub.status.busy": "2025-06-14T00:46:23.229199Z",
     "iopub.status.idle": "2025-06-14T00:46:23.574835Z",
     "shell.execute_reply": "2025-06-14T00:46:23.574271Z",
     "shell.execute_reply.started": "2025-06-14T00:46:23.229566Z"
    },
    "trusted": true
   },
   "outputs": [],
   "source": [
    "import os\n",
    "import numpy as np\n",
    "import librosa\n",
    "import soundfile as sf\n",
    "from sklearn.model_selection import StratifiedKFold\n",
    "from sklearn.metrics import f1_score\n",
    "from xgboost import XGBClassifier\n",
    "from tqdm import tqdm\n",
    "\n",
    "# Settings\n",
    "thresholds_to_try = np.linspace(70, 90, 10)  # 10 thresholds\n",
    "n_splits = 5\n",
    "AUDIO_BASE = \"/kaggle/input/birdclef-2025/train_audio/\"\n",
    "N_FILES = 100  \n",
    "results = {}\n",
    "\n",
    "def extract_binary_features(path, percentile=85):\n",
    "    y, sr = librosa.load(path, sr=32000)\n",
    "    S = librosa.stft(y, n_fft=1024, hop_length=512)\n",
    "    S_power = np.abs(S) ** 2\n",
    "    S_db = librosa.power_to_db(S_power, ref=np.max)\n",
    "    freqs = librosa.fft_frequencies(sr=sr, n_fft=1024)\n",
    "    bin_edges = np.linspace(0, 16000, 3201)\n",
    "    binary_vector = np.zeros(3200, dtype=int)\n",
    "    energy_per_freq = S_db.max(axis=1)\n",
    "    adaptive_threshold = np.percentile(energy_per_freq, percentile)\n",
    "\n",
    "    for j in range(3200):\n",
    "        f_start = bin_edges[j]\n",
    "        f_end = bin_edges[j+1]\n",
    "        bin_mask = (freqs >= f_start) & (freqs < f_end)\n",
    "        if np.any(bin_mask):\n",
    "            max_energy = np.max(energy_per_freq[bin_mask])\n",
    "            if max_energy > adaptive_threshold:\n",
    "                binary_vector[j] = 1\n",
    "\n",
    "    return binary_vector\n"
   ]
  },
  {
   "cell_type": "markdown",
   "metadata": {},
   "source": [
    "# Implemented Threshold Tuning for Optimised Threshold"
   ]
  },
  {
   "cell_type": "code",
   "execution_count": 7,
   "metadata": {
    "execution": {
     "iopub.execute_input": "2025-06-14T00:46:23.576822Z",
     "iopub.status.busy": "2025-06-14T00:46:23.576608Z",
     "iopub.status.idle": "2025-06-14T00:48:05.897660Z",
     "shell.execute_reply": "2025-06-14T00:48:05.896908Z",
     "shell.execute_reply.started": "2025-06-14T00:46:23.576798Z"
    },
    "trusted": true
   },
   "outputs": [
    {
     "name": "stdout",
     "output_type": "stream",
     "text": [
      "\n",
      "🔵 Threshold = 70.0%\n"
     ]
    },
    {
     "name": "stderr",
     "output_type": "stream",
     "text": [
      "Extracting with 70.0: 100%|██████████| 100/100 [00:09<00:00, 10.82it/s]\n"
     ]
    },
    {
     "name": "stdout",
     "output_type": "stream",
     "text": [
      "✅ Average F1 @ 70.0% = 0.6686\n",
      "\n",
      "🔵 Threshold = 72.2%\n"
     ]
    },
    {
     "name": "stderr",
     "output_type": "stream",
     "text": [
      "Extracting with 72.2: 100%|██████████| 100/100 [00:08<00:00, 12.47it/s]\n"
     ]
    },
    {
     "name": "stdout",
     "output_type": "stream",
     "text": [
      "✅ Average F1 @ 72.2% = 0.6238\n",
      "\n",
      "🔵 Threshold = 74.4%\n"
     ]
    },
    {
     "name": "stderr",
     "output_type": "stream",
     "text": [
      "Extracting with 74.4: 100%|██████████| 100/100 [00:08<00:00, 12.47it/s]\n"
     ]
    },
    {
     "name": "stdout",
     "output_type": "stream",
     "text": [
      "✅ Average F1 @ 74.4% = 0.7189\n",
      "\n",
      "🔵 Threshold = 76.7%\n"
     ]
    },
    {
     "name": "stderr",
     "output_type": "stream",
     "text": [
      "Extracting with 76.7: 100%|██████████| 100/100 [00:07<00:00, 12.56it/s]\n"
     ]
    },
    {
     "name": "stdout",
     "output_type": "stream",
     "text": [
      "✅ Average F1 @ 76.7% = 0.7420\n",
      "\n",
      "🔵 Threshold = 78.9%\n"
     ]
    },
    {
     "name": "stderr",
     "output_type": "stream",
     "text": [
      "Extracting with 78.9: 100%|██████████| 100/100 [00:07<00:00, 12.56it/s]\n"
     ]
    },
    {
     "name": "stdout",
     "output_type": "stream",
     "text": [
      "✅ Average F1 @ 78.9% = 0.6548\n",
      "\n",
      "🔵 Threshold = 81.1%\n"
     ]
    },
    {
     "name": "stderr",
     "output_type": "stream",
     "text": [
      "Extracting with 81.1: 100%|██████████| 100/100 [00:08<00:00, 12.39it/s]\n"
     ]
    },
    {
     "name": "stdout",
     "output_type": "stream",
     "text": [
      "✅ Average F1 @ 81.1% = 0.7382\n",
      "\n",
      "🔵 Threshold = 83.3%\n"
     ]
    },
    {
     "name": "stderr",
     "output_type": "stream",
     "text": [
      "Extracting with 83.3: 100%|██████████| 100/100 [00:08<00:00, 12.11it/s]\n"
     ]
    },
    {
     "name": "stdout",
     "output_type": "stream",
     "text": [
      "✅ Average F1 @ 83.3% = 0.7308\n",
      "\n",
      "🔵 Threshold = 85.6%\n"
     ]
    },
    {
     "name": "stderr",
     "output_type": "stream",
     "text": [
      "Extracting with 85.6: 100%|██████████| 100/100 [00:07<00:00, 12.63it/s]\n"
     ]
    },
    {
     "name": "stdout",
     "output_type": "stream",
     "text": [
      "✅ Average F1 @ 85.6% = 0.7064\n",
      "\n",
      "🔵 Threshold = 87.8%\n"
     ]
    },
    {
     "name": "stderr",
     "output_type": "stream",
     "text": [
      "Extracting with 87.8: 100%|██████████| 100/100 [00:08<00:00, 12.29it/s]\n"
     ]
    },
    {
     "name": "stdout",
     "output_type": "stream",
     "text": [
      "✅ Average F1 @ 87.8% = 0.7153\n",
      "\n",
      "🔵 Threshold = 90.0%\n"
     ]
    },
    {
     "name": "stderr",
     "output_type": "stream",
     "text": [
      "Extracting with 90.0: 100%|██████████| 100/100 [00:07<00:00, 12.84it/s]\n"
     ]
    },
    {
     "name": "stdout",
     "output_type": "stream",
     "text": [
      "✅ Average F1 @ 90.0% = 0.7000\n",
      "\n",
      "📊 Final Results:\n",
      "Threshold 70.0% -> Avg F1: 0.6686\n",
      "Threshold 72.2% -> Avg F1: 0.6238\n",
      "Threshold 74.4% -> Avg F1: 0.7189\n",
      "Threshold 76.7% -> Avg F1: 0.7420\n",
      "Threshold 78.9% -> Avg F1: 0.6548\n",
      "Threshold 81.1% -> Avg F1: 0.7382\n",
      "Threshold 83.3% -> Avg F1: 0.7308\n",
      "Threshold 85.6% -> Avg F1: 0.7064\n",
      "Threshold 87.8% -> Avg F1: 0.7153\n",
      "Threshold 90.0% -> Avg F1: 0.7000\n"
     ]
    },
    {
     "data": {
      "image/png": "[encoded data removed]",
      "text/plain": [
       "<Figure size 800x500 with 1 Axes>"
      ]
     },
     "metadata": {},
     "output_type": "display_data"
    }
   ],
   "source": [
    "# Main Loop\n",
    "for thresh in thresholds_to_try:\n",
    "    print(f\"\\n🔵 Threshold = {thresh:.1f}%\")\n",
    "\n",
    "    X = []\n",
    "    y = []\n",
    "\n",
    "    for i in tqdm(range(N_FILES), desc=f\"Extracting with {thresh:.1f}\"):\n",
    "        path = AUDIO_BASE + combined_df.iloc[i][\"filename\"]\n",
    "\n",
    "        try:\n",
    "            vec = extract_binary_features(path, percentile=thresh)\n",
    "            X.append(vec)\n",
    "            y.append(combined_df.iloc[i]['label'])\n",
    "        except Exception as e:\n",
    "            print(f\"❌ Failed for file {i}: {e}\")\n",
    "\n",
    "    X = np.stack(X)\n",
    "    y = np.array(y)\n",
    "\n",
    "    # 5-Fold Cross-Validation\n",
    "    f1_scores = []\n",
    "\n",
    "    skf = StratifiedKFold(n_splits=n_splits, shuffle=True, random_state=42)\n",
    "\n",
    "    for train_idx, val_idx in skf.split(X, y):\n",
    "        X_train, X_val = X[train_idx], X[val_idx]\n",
    "        y_train, y_val = y[train_idx], y[val_idx]\n",
    "\n",
    "        model = XGBClassifier(\n",
    "            n_estimators=500,\n",
    "            scale_pos_weight=(len(y_train) - sum(y_train)) / sum(y_train),\n",
    "            use_label_encoder=False,\n",
    "            eval_metric='logloss',\n",
    "            random_state=42\n",
    "        )\n",
    "\n",
    "        model.fit(X_train, y_train)\n",
    "        y_pred = model.predict(X_val)\n",
    "        f1 = f1_score(y_val, y_pred)\n",
    "        f1_scores.append(f1)\n",
    "\n",
    "    avg_f1 = np.mean(f1_scores)\n",
    "    print(f\"✅ Average F1 @ {thresh:.1f}% = {avg_f1:.4f}\")\n",
    "\n",
    "    results[thresh] = avg_f1\n",
    "\n",
    "# Summary\n",
    "print(\"\\n📊 Final Results:\")\n",
    "for k, v in results.items():\n",
    "    print(f\"Threshold {k:.1f}% -> Avg F1: {v:.4f}\")\n",
    "\n",
    "# Plot\n",
    "import matplotlib.pyplot as plt\n",
    "\n",
    "plt.figure(figsize=(8,5))\n",
    "plt.plot(list(results.keys()), list(results.values()), marker='o')\n",
    "plt.xlabel('Percentile Threshold')\n",
    "plt.ylabel('Average F1-Score (5-Fold CV)')\n",
    "plt.title('Threshold vs F1-Score')\n",
    "plt.grid(True)\n",
    "plt.show()"
   ]
  },
  {
   "cell_type": "code",
   "execution_count": 8,
   "metadata": {
    "execution": {
     "iopub.execute_input": "2025-06-14T00:48:05.898580Z",
     "iopub.status.busy": "2025-06-14T00:48:05.898382Z",
     "iopub.status.idle": "2025-06-14T00:48:05.959139Z",
     "shell.execute_reply": "2025-06-14T00:48:05.958419Z",
     "shell.execute_reply.started": "2025-06-14T00:48:05.898563Z"
    },
    "trusted": true
   },
   "outputs": [
    {
     "name": "stdout",
     "output_type": "stream",
     "text": [
      "(3200,)\n",
      "120\n"
     ]
    }
   ],
   "source": [
    "path = \"/kaggle/input/birdclef-2025/train_audio/\" + combined_df.iloc[0][\"filename\"]\n",
    "vec = extract_binary_features(path, percentile=76.7)\n",
    "print(vec.shape) \n",
    "print(vec.sum()) "
   ]
  },
  {
   "cell_type": "code",
   "execution_count": 9,
   "metadata": {
    "execution": {
     "iopub.execute_input": "2025-06-14T00:48:05.960003Z",
     "iopub.status.busy": "2025-06-14T00:48:05.959758Z",
     "iopub.status.idle": "2025-06-14T00:48:06.523783Z",
     "shell.execute_reply": "2025-06-14T00:48:06.523142Z",
     "shell.execute_reply.started": "2025-06-14T00:48:05.959985Z"
    },
    "trusted": true
   },
   "outputs": [
    {
     "data": {
      "image/png": "[encoded data removed]",
      "text/plain": [
       "<Figure size 600x400 with 1 Axes>"
      ]
     },
     "metadata": {},
     "output_type": "display_data"
    }
   ],
   "source": [
    "import seaborn as sns\n",
    "\n",
    "plt.figure(figsize=(6,4))\n",
    "sns.countplot(x=y)\n",
    "plt.title('Positive vs Negative Samples (After Processing)')\n",
    "plt.xlabel('Class (0=Negative, 1=Positive)')\n",
    "plt.ylabel('Count')\n",
    "plt.show()"
   ]
  },
  {
   "cell_type": "markdown",
   "metadata": {},
   "source": [
    "# Implementing Optimised Threshold for Training Data and Model Training with Cross Val"
   ]
  },
  {
   "cell_type": "code",
   "execution_count": 10,
   "metadata": {
    "execution": {
     "iopub.execute_input": "2025-06-14T00:48:06.524859Z",
     "iopub.status.busy": "2025-06-14T00:48:06.524519Z",
     "iopub.status.idle": "2025-06-14T00:55:49.643570Z",
     "shell.execute_reply": "2025-06-14T00:55:49.642777Z",
     "shell.execute_reply.started": "2025-06-14T00:48:06.524845Z"
    },
    "trusted": true
   },
   "outputs": [
    {
     "name": "stderr",
     "output_type": "stream",
     "text": [
      "100%|██████████| 1980/1980 [07:43<00:00,  4.28it/s] \n"
     ]
    }
   ],
   "source": [
    "import os\n",
    "import numpy as np\n",
    "import soundfile as sf\n",
    "import librosa\n",
    "from tqdm import tqdm\n",
    "\n",
    "# Storage\n",
    "X = []\n",
    "y = []\n",
    "\n",
    "# Full base path to audio files\n",
    "AUDIO_BASE = \"/kaggle/input/birdclef-2025/train_audio/\"\n",
    "\n",
    "for _, row in tqdm(combined_df.iterrows(), total=len(combined_df)):\n",
    "    full_path = os.path.join(AUDIO_BASE, row['filename'])\n",
    "\n",
    "    try:\n",
    "        # Load audio\n",
    "        y_raw, sr = sf.read(full_path)\n",
    "        samples_per_chunk = sr * 5  # 5 seconds\n",
    "        num_chunks = len(y_raw) // samples_per_chunk\n",
    "\n",
    "        if num_chunks == 0:\n",
    "            continue  # skip if too short\n",
    "\n",
    "        # Extract binary vectors per chunk\n",
    "        chunk_features = []\n",
    "\n",
    "        for i in range(num_chunks):\n",
    "            start = i * samples_per_chunk\n",
    "            end = start + samples_per_chunk\n",
    "            chunk = y_raw[start:end]\n",
    "\n",
    "            # Extract features for chunk\n",
    "            S = librosa.stft(chunk, n_fft=1024, hop_length=512)\n",
    "            S_power = np.abs(S) ** 2\n",
    "            S_db = librosa.power_to_db(S_power, ref=np.max)\n",
    "            freqs = librosa.fft_frequencies(sr=sr, n_fft=1024)\n",
    "            bin_edges = np.linspace(0, 16000, 3201)\n",
    "            binary_vector = np.zeros(3200, dtype=int)\n",
    "            energy_per_freq = S_db.max(axis=1)\n",
    "            adaptive_threshold = np.percentile(energy_per_freq, 85)\n",
    "\n",
    "            for j in range(3200):\n",
    "                f_start = bin_edges[j]\n",
    "                f_end = bin_edges[j+1]\n",
    "                bin_mask = (freqs >= f_start) & (freqs < f_end)\n",
    "                if np.any(bin_mask):\n",
    "                    max_energy = np.max(energy_per_freq[bin_mask])\n",
    "                    if max_energy > adaptive_threshold:\n",
    "                        binary_vector[j] = 1\n",
    "\n",
    "            chunk_features.append(binary_vector)\n",
    "\n",
    "        # Now aggregate across all chunks\n",
    "        chunk_features = np.array(chunk_features)\n",
    "\n",
    "        # median aggregation across chunks\n",
    "        final_vector = np.median(chunk_features, axis=0)\n",
    "\n",
    "        # binarize again (keep 0 or 1 only)\n",
    "        final_vector = (final_vector > 0.5).astype(int)\n",
    "\n",
    "        # Save final vector\n",
    "        X.append(final_vector)\n",
    "        y.append(row['label'])\n",
    "\n",
    "    except Exception as e:\n",
    "        print(f\"❌ Failed for {row['filename']}: {e}\")"
   ]
  },
  {
   "cell_type": "code",
   "execution_count": 11,
   "metadata": {
    "execution": {
     "iopub.execute_input": "2025-06-14T00:55:49.644892Z",
     "iopub.status.busy": "2025-06-14T00:55:49.644618Z",
     "iopub.status.idle": "2025-06-14T00:55:49.657027Z",
     "shell.execute_reply": "2025-06-14T00:55:49.656222Z",
     "shell.execute_reply.started": "2025-06-14T00:55:49.644873Z"
    },
    "trusted": true
   },
   "outputs": [
    {
     "name": "stdout",
     "output_type": "stream",
     "text": [
      "✅ Final Feature Matrix shape: (1826, 3200)\n",
      "✅ Final Labels shape: (1826,)\n"
     ]
    }
   ],
   "source": [
    "X = np.stack(X)\n",
    "y = np.array(y)\n",
    "\n",
    "print(\"✅ Final Feature Matrix shape:\", X.shape)\n",
    "print(\"✅ Final Labels shape:\", y.shape)"
   ]
  },
  {
   "cell_type": "code",
   "execution_count": 12,
   "metadata": {
    "execution": {
     "iopub.execute_input": "2025-06-14T00:55:49.657990Z",
     "iopub.status.busy": "2025-06-14T00:55:49.657759Z",
     "iopub.status.idle": "2025-06-14T00:56:00.354773Z",
     "shell.execute_reply": "2025-06-14T00:56:00.353706Z",
     "shell.execute_reply.started": "2025-06-14T00:55:49.657975Z"
    },
    "trusted": true
   },
   "outputs": [
    {
     "name": "stdout",
     "output_type": "stream",
     "text": [
      "\n",
      "🔵 Fold 1/5\n",
      "✅ Fold 1 F1-Score: 0.7851\n",
      "\n",
      "🔵 Fold 2/5\n",
      "✅ Fold 2 F1-Score: 0.7562\n",
      "\n",
      "🔵 Fold 3/5\n",
      "✅ Fold 3 F1-Score: 0.7949\n",
      "\n",
      "🔵 Fold 4/5\n",
      "✅ Fold 4 F1-Score: 0.7789\n",
      "\n",
      "🔵 Fold 5/5\n",
      "✅ Fold 5 F1-Score: 0.7584\n",
      "\n",
      "📊 Average F1-Score across 5 folds: 0.7747\n"
     ]
    }
   ],
   "source": [
    "from sklearn.model_selection import StratifiedKFold\n",
    "from sklearn.ensemble import RandomForestClassifier\n",
    "from sklearn.metrics import f1_score, classification_report, confusion_matrix\n",
    "import numpy as np\n",
    "\n",
    "n_splits = 5\n",
    "skf = StratifiedKFold(n_splits=n_splits, shuffle=True, random_state=42)\n",
    "\n",
    "f1_scores_rf = []\n",
    "\n",
    "for fold, (train_idx, val_idx) in enumerate(skf.split(X, y)):\n",
    "    print(f\"\\n🔵 Fold {fold+1}/{n_splits}\")\n",
    "\n",
    "    X_train, X_val = X[train_idx], X[val_idx]\n",
    "    y_train, y_val = y[train_idx], y[val_idx]\n",
    "\n",
    "    clf_rf = RandomForestClassifier(\n",
    "        n_estimators=500,\n",
    "        class_weight='balanced',\n",
    "        random_state=42,\n",
    "        n_jobs=-1  # use all cores\n",
    "    )\n",
    "\n",
    "    clf_rf.fit(X_train, y_train)\n",
    "    y_pred_rf = clf_rf.predict(X_val)\n",
    "\n",
    "    f1 = f1_score(y_val, y_pred_rf)\n",
    "    print(f\"✅ Fold {fold+1} F1-Score: {f1:.4f}\")\n",
    "\n",
    "    f1_scores_rf.append(f1)\n",
    "\n",
    "    # (Optional) Print confusion matrix\n",
    "    # print(confusion_matrix(y_val, y_pred_rf))\n",
    "\n",
    "# Final average\n",
    "avg_f1_rf = np.mean(f1_scores_rf)\n",
    "print(f\"\\n📊 Average F1-Score across {n_splits} folds: {avg_f1_rf:.4f}\")"
   ]
  },
  {
   "cell_type": "code",
   "execution_count": 23,
   "metadata": {
    "execution": {
     "iopub.execute_input": "2025-06-14T01:00:15.357587Z",
     "iopub.status.busy": "2025-06-14T01:00:15.357326Z",
     "iopub.status.idle": "2025-06-14T01:00:26.163725Z",
     "shell.execute_reply": "2025-06-14T01:00:26.162372Z",
     "shell.execute_reply.started": "2025-06-14T01:00:15.357569Z"
    },
    "trusted": true
   },
   "outputs": [
    {
     "name": "stdout",
     "output_type": "stream",
     "text": [
      "\n",
      "🔵 Fold 1/5\n",
      "✅ Fold 1 AUC-Score: 0.7789\n",
      "\n",
      "🔵 Fold 2/5\n",
      "✅ Fold 2 AUC-Score: 0.7324\n",
      "\n",
      "🔵 Fold 3/5\n",
      "✅ Fold 3 AUC-Score: 0.7814\n",
      "\n",
      "🔵 Fold 4/5\n",
      "✅ Fold 4 AUC-Score: 0.7703\n",
      "\n",
      "🔵 Fold 5/5\n",
      "✅ Fold 5 AUC-Score: 0.7454\n",
      "\n",
      "📊 Average AUC-Score across 5 folds: 0.7584\n"
     ]
    }
   ],
   "source": [
    "from sklearn.model_selection import StratifiedKFold\n",
    "from sklearn.ensemble import RandomForestClassifier\n",
    "from sklearn.metrics import roc_auc_score, classification_report, confusion_matrix\n",
    "import numpy as np\n",
    "\n",
    "n_splits = 5\n",
    "skf = StratifiedKFold(n_splits=n_splits, shuffle=True, random_state=42)\n",
    "\n",
    "auc_scores_rf = []\n",
    "\n",
    "for fold, (train_idx, val_idx) in enumerate(skf.split(X, y)):\n",
    "    print(f\"\\n🔵 Fold {fold+1}/{n_splits}\")\n",
    "\n",
    "    X_train, X_val = X[train_idx], X[val_idx]\n",
    "    y_train, y_val = y[train_idx], y[val_idx]\n",
    "\n",
    "    clf_rf = RandomForestClassifier(\n",
    "        n_estimators=500,\n",
    "        class_weight='balanced',\n",
    "        random_state=42,\n",
    "        n_jobs=-1  # use all cores\n",
    "    )\n",
    "\n",
    "    clf_rf.fit(X_train, y_train)\n",
    "    y_pred_rf = clf_rf.predict(X_val)\n",
    "\n",
    "    roc_auc = roc_auc_score(y_val, y_pred_rf)\n",
    "    print(f\"✅ Fold {fold+1} AUC-Score: {roc_auc:.4f}\")\n",
    "\n",
    "    auc_scores_rf.append(f1)\n",
    "\n",
    "    # (Optional) Print confusion matrix\n",
    "    # print(confusion_matrix(y_val, y_pred_rf))\n",
    "\n",
    "# Final average\n",
    "avg_auc_rf = np.mean(auc_scores_rf)\n",
    "print(f\"\\n📊 Average AUC-Score across {n_splits} folds: {avg_auc_rf:.4f}\")"
   ]
  },
  {
   "cell_type": "code",
   "execution_count": 13,
   "metadata": {
    "execution": {
     "iopub.execute_input": "2025-06-14T00:56:00.356068Z",
     "iopub.status.busy": "2025-06-14T00:56:00.355807Z",
     "iopub.status.idle": "2025-06-14T00:56:00.496866Z",
     "shell.execute_reply": "2025-06-14T00:56:00.495640Z",
     "shell.execute_reply.started": "2025-06-14T00:56:00.356049Z"
    },
    "trusted": true
   },
   "outputs": [
    {
     "data": {
      "image/png": "[encoded data removed]",
      "text/plain": [
       "<Figure size 800x500 with 1 Axes>"
      ]
     },
     "metadata": {},
     "output_type": "display_data"
    }
   ],
   "source": [
    "import matplotlib.pyplot as plt\n",
    "\n",
    "plt.figure(figsize=(8,5))\n",
    "plt.bar(range(1, len(f1_scores_rf)+1), f1_scores_rf, color='skyblue')\n",
    "plt.ylim(0.7,0.8)\n",
    "plt.xlabel('Fold')\n",
    "plt.ylabel('F1 Score')\n",
    "plt.title('Fold-wise F1 Scores (Random Forest)')\n",
    "plt.grid(axis='y')\n",
    "plt.show()"
   ]
  },
  {
   "cell_type": "code",
   "execution_count": 14,
   "metadata": {
    "execution": {
     "iopub.execute_input": "2025-06-14T00:56:00.497983Z",
     "iopub.status.busy": "2025-06-14T00:56:00.497752Z",
     "iopub.status.idle": "2025-06-14T00:56:00.641690Z",
     "shell.execute_reply": "2025-06-14T00:56:00.641017Z",
     "shell.execute_reply.started": "2025-06-14T00:56:00.497946Z"
    },
    "trusted": true
   },
   "outputs": [
    {
     "data": {
      "image/png": "[encoded data removed]",
      "text/plain": [
       "<Figure size 640x480 with 2 Axes>"
      ]
     },
     "metadata": {},
     "output_type": "display_data"
    }
   ],
   "source": [
    "from sklearn.metrics import confusion_matrix, ConfusionMatrixDisplay\n",
    "\n",
    "cm = confusion_matrix(y_val, y_pred_rf)\n",
    "disp = ConfusionMatrixDisplay(confusion_matrix=cm)\n",
    "disp.plot()\n",
    "plt.title(\"Confusion Matrix on Validation Fold\")\n",
    "plt.show()"
   ]
  }
 ],
 "metadata": {
  "kaggle": {
   "accelerator": "none",
   "dataSources": [
    {
     "databundleVersionId": 11361821,
     "sourceId": 91844,
     "sourceType": "competition"
    }
   ],
   "dockerImageVersionId": 31040,
   "isGpuEnabled": false,
   "isInternetEnabled": true,
   "language": "python",
   "sourceType": "notebook"
  },
  "kernelspec": {
   "display_name": "Python 3",
   "language": "python",
   "name": "python3"
  },
  "language_info": {
   "codemirror_mode": {
    "name": "ipython",
    "version": 3
   },
   "file_extension": ".py",
   "mimetype": "text/x-python",
   "name": "python",
   "nbconvert_exporter": "python",
   "pygments_lexer": "ipython3",
   "version": "3.11.11"
  }
 },
 "nbformat": 4,
 "nbformat_minor": 4
}
